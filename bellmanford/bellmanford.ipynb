{
 "cells": [
  {
   "cell_type": "code",
   "execution_count": 11,
   "metadata": {},
   "outputs": [],
   "source": [
    "def bellmanford(graph: dict, source: str):\n",
    "    \n",
    "    # Step 1: initialize graph\n",
    "    distance, predecessor = dict(), dict()\n",
    "\n",
    "    for vertex in graph:\n",
    "        distance[vertex] = float(\"inf\")\n",
    "        predecessor[vertex] = None\n",
    "\n",
    "    distance[source] = 0\n",
    "\n",
    "    # Step2 : relax edges of each vertex repeatedly by |V|-1 times\n",
    "    for _ in range(len(graph)-1) :\n",
    "        for vertex in graph:\n",
    "            for neighbour in graph[vertex]:\n",
    "                if distance[vertex] != float(\"inf\") and distance[neighbour] > (update := distance[vertex] + graph[vertex][neighbour]):\n",
    "                    distance[neighbour] = update\n",
    "                    predecessor[neighbour] = vertex\n",
    "\n",
    "    # Step 3: check for negative-weight cycles\n",
    "    for vertex in graph:\n",
    "        for neighbour in graph[vertex]:\n",
    "            if distance[neighbour] > distance[vertex] + graph[vertex][neighbour]:\n",
    "                raise Exception(\"Negetive cycle detected\")\n",
    "\n",
    "    return distance, predecessor\n"
   ]
  },
  {
   "attachments": {},
   "cell_type": "markdown",
   "metadata": {},
   "source": [
    "## Example 1"
   ]
  },
  {
   "cell_type": "code",
   "execution_count": 12,
   "metadata": {},
   "outputs": [
    {
     "name": "stdout",
     "output_type": "stream",
     "text": [
      "distance:  {'s': 0, 'a': 5, 'b': 5, 'c': 7, 'd': 9, 'e': 8} \n",
      "predecessor:  {'s': None, 'a': 'd', 'b': 'c', 'c': 'a', 'd': 'e', 'e': 's'}\n"
     ]
    }
   ],
   "source": [
    "graph_one = {\n",
    "    's': {'a': 10, 'e': 8},\n",
    "    'a': {'c': 2},\n",
    "    'b': {'a': 1},\n",
    "    'c': {'b': -2},\n",
    "    'd': {'a': -4, 'c': -1},\n",
    "    'e': {'d': 1}\n",
    "}\n",
    "\n",
    "distance, predecessor = bellmanford(graph_one, 's')\n",
    "\n",
    "print(\"distance: \", distance, \"\\npredecessor: \", predecessor)"
   ]
  },
  {
   "attachments": {},
   "cell_type": "markdown",
   "metadata": {},
   "source": [
    "## Example 2: Negetive Cycle"
   ]
  },
  {
   "cell_type": "code",
   "execution_count": 13,
   "metadata": {},
   "outputs": [
    {
     "ename": "Exception",
     "evalue": "Negetive cycle detected",
     "output_type": "error",
     "traceback": [
      "\u001b[1;31m---------------------------------------------------------------------------\u001b[0m",
      "\u001b[1;31mException\u001b[0m                                 Traceback (most recent call last)",
      "Cell \u001b[1;32mIn[13], line 8\u001b[0m\n\u001b[0;32m      1\u001b[0m negative_graph \u001b[39m=\u001b[39m {\n\u001b[0;32m      2\u001b[0m     \u001b[39m'\u001b[39m\u001b[39ma\u001b[39m\u001b[39m'\u001b[39m: {\u001b[39m'\u001b[39m\u001b[39mb\u001b[39m\u001b[39m'\u001b[39m: \u001b[39m4\u001b[39m, \u001b[39m'\u001b[39m\u001b[39mc\u001b[39m\u001b[39m'\u001b[39m: \u001b[39m5\u001b[39m},\n\u001b[0;32m      3\u001b[0m     \u001b[39m'\u001b[39m\u001b[39mb\u001b[39m\u001b[39m'\u001b[39m: {\u001b[39m'\u001b[39m\u001b[39mc\u001b[39m\u001b[39m'\u001b[39m: \u001b[39m5\u001b[39m},\n\u001b[0;32m      4\u001b[0m     \u001b[39m'\u001b[39m\u001b[39mc\u001b[39m\u001b[39m'\u001b[39m: {\u001b[39m'\u001b[39m\u001b[39md\u001b[39m\u001b[39m'\u001b[39m: \u001b[39m3\u001b[39m},\n\u001b[0;32m      5\u001b[0m     \u001b[39m'\u001b[39m\u001b[39md\u001b[39m\u001b[39m'\u001b[39m: {\u001b[39m'\u001b[39m\u001b[39mb\u001b[39m\u001b[39m'\u001b[39m: \u001b[39m-\u001b[39m\u001b[39m10\u001b[39m,}\n\u001b[0;32m      6\u001b[0m }\n\u001b[1;32m----> 8\u001b[0m distance, predecessor \u001b[39m=\u001b[39m bellmanford(negative_graph, \u001b[39m'\u001b[39;49m\u001b[39ma\u001b[39;49m\u001b[39m'\u001b[39;49m)\n\u001b[0;32m     10\u001b[0m \u001b[39mprint\u001b[39m(\u001b[39m\"\u001b[39m\u001b[39mdistance: \u001b[39m\u001b[39m\"\u001b[39m, distance, \u001b[39m\"\u001b[39m\u001b[39m\\n\u001b[39;00m\u001b[39mpredecessor: \u001b[39m\u001b[39m\"\u001b[39m, predecessor)\n",
      "Cell \u001b[1;32mIn[11], line 24\u001b[0m, in \u001b[0;36mbellmanford\u001b[1;34m(graph, source)\u001b[0m\n\u001b[0;32m     22\u001b[0m     \u001b[39mfor\u001b[39;00m neighbour \u001b[39min\u001b[39;00m graph[vertex]:\n\u001b[0;32m     23\u001b[0m         \u001b[39mif\u001b[39;00m distance[neighbour] \u001b[39m>\u001b[39m distance[vertex] \u001b[39m+\u001b[39m graph[vertex][neighbour]:\n\u001b[1;32m---> 24\u001b[0m             \u001b[39mraise\u001b[39;00m \u001b[39mException\u001b[39;00m(\u001b[39m\"\u001b[39m\u001b[39mNegetive cycle detected\u001b[39m\u001b[39m\"\u001b[39m)\n\u001b[0;32m     26\u001b[0m \u001b[39mreturn\u001b[39;00m distance, predecessor\n",
      "\u001b[1;31mException\u001b[0m: Negetive cycle detected"
     ]
    }
   ],
   "source": [
    "negative_graph = {\n",
    "    'a': {'b': 4, 'c': 5},\n",
    "    'b': {'c': 5},\n",
    "    'c': {'d': 3},\n",
    "    'd': {'b': -10,}\n",
    "}\n",
    "\n",
    "distance, predecessor = bellmanford(negative_graph, 'a')\n",
    "\n",
    "print(\"distance: \", distance, \"\\npredecessor: \", predecessor)"
   ]
  }
 ],
 "metadata": {
  "kernelspec": {
   "display_name": "Python 3",
   "language": "python",
   "name": "python3"
  },
  "language_info": {
   "codemirror_mode": {
    "name": "ipython",
    "version": 3
   },
   "file_extension": ".py",
   "mimetype": "text/x-python",
   "name": "python",
   "nbconvert_exporter": "python",
   "pygments_lexer": "ipython3",
   "version": "3.10.9"
  },
  "orig_nbformat": 4
 },
 "nbformat": 4,
 "nbformat_minor": 2
}
