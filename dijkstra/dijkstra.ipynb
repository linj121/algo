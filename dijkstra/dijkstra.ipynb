{
 "cells": [
  {
   "attachments": {},
   "cell_type": "markdown",
   "metadata": {},
   "source": [
    "## Pseudo Code\n",
    "\n",
    "```python\n",
    "function dijkstra(G, S)\n",
    "    for each vertex V in G\n",
    "        distance[V] <- infinite\n",
    "        previous[V] <- NULL\n",
    "        If V != S, add V to Priority Queue Q\n",
    "    distance[S] <- 0\n",
    "\t\n",
    "    while Q IS NOT EMPTY\n",
    "        U <- Extract MIN from Q\n",
    "        for each unvisited neighbour V of U\n",
    "            tempDistance <- distance[U] + edge_weight(U, V)\n",
    "            if tempDistance < distance[V]\n",
    "                distance[V] <- tempDistance\n",
    "                previous[V] <- U\n",
    "    return distance[], previous[]\n",
    "```"
   ]
  },
  {
   "cell_type": "code",
   "execution_count": 6,
   "metadata": {},
   "outputs": [
    {
     "name": "stdout",
     "output_type": "stream",
     "text": [
      "['H', 'F', 'B']\n"
     ]
    }
   ],
   "source": [
    "import heapq\n",
    "import sys\n",
    "\n",
    "class Graph:\n",
    "    \n",
    "    def __init__(self):\n",
    "        self.vertices = {}\n",
    "        \n",
    "    def add_vertex(self, name, edges):\n",
    "        self.vertices[name] = edges\n",
    "    \n",
    "    def shortest_path(self, start, finish):\n",
    "        distances = {} # Distance from start to node\n",
    "        previous = {}  # Previous node in optimal path from source\n",
    "        nodes = [] # Priority queue of all nodes in Graph\n",
    "\n",
    "        for vertex in self.vertices:\n",
    "            if vertex == start: # Set root node as distance of 0\n",
    "                distances[vertex] = 0\n",
    "                heapq.heappush(nodes, [0, vertex])\n",
    "            else:\n",
    "                distances[vertex] = sys.maxsize\n",
    "                heapq.heappush(nodes, [sys.maxsize, vertex])\n",
    "            previous[vertex] = None\n",
    "        \n",
    "        while nodes:\n",
    "            smallest = heapq.heappop(nodes)[1] # Vertex in nodes with smallest distance in distances\n",
    "            if smallest == finish: # If the closest node is our target we're done so print the path\n",
    "                path = []\n",
    "                while previous[smallest]: # Traverse through nodes til we reach the root which is 0\n",
    "                    path.append(smallest)\n",
    "                    smallest = previous[smallest]\n",
    "                return path\n",
    "            if distances[smallest] == sys.maxsize: # All remaining vertices are inaccessible from source\n",
    "                break\n",
    "            \n",
    "            for neighbor in self.vertices[smallest]: # Look at all the nodes that this vertex is attached to\n",
    "                alt = distances[smallest] + self.vertices[smallest][neighbor] # Alternative path distance\n",
    "                if alt < distances[neighbor]: # If there is a new shortest path update our priority queue (relax)\n",
    "                    distances[neighbor] = alt\n",
    "                    previous[neighbor] = smallest\n",
    "                    for n in nodes:\n",
    "                        if n[1] == neighbor:\n",
    "                            n[0] = alt\n",
    "                            break\n",
    "                    heapq.heapify(nodes)\n",
    "        return distances\n",
    "        \n",
    "    def __str__(self):\n",
    "        return str(self.vertices)\n",
    "\n",
    "if __name__ == '__main__':\n",
    "    g = Graph()\n",
    "    g.add_vertex('A', {'B': 7, 'C': 8})\n",
    "    g.add_vertex('B', {'A': 7, 'F': 2})\n",
    "    g.add_vertex('C', {'A': 8, 'F': 6, 'G': 4})\n",
    "    g.add_vertex('D', {'F': 8})\n",
    "    g.add_vertex('E', {'H': 1})\n",
    "    g.add_vertex('F', {'B': 2, 'C': 6, 'D': 8, 'G': 9, 'H': 3})\n",
    "    g.add_vertex('G', {'C': 4, 'F': 9})\n",
    "    g.add_vertex('H', {'E': 1, 'F': 3})\n",
    "    print(g.shortest_path('A', 'H'))"
   ]
  }
 ],
 "metadata": {
  "kernelspec": {
   "display_name": "base",
   "language": "python",
   "name": "python3"
  },
  "language_info": {
   "codemirror_mode": {
    "name": "ipython",
    "version": 3
   },
   "file_extension": ".py",
   "mimetype": "text/x-python",
   "name": "python",
   "nbconvert_exporter": "python",
   "pygments_lexer": "ipython3",
   "version": "undefined.undefined.undefined"
  },
  "orig_nbformat": 4
 },
 "nbformat": 4,
 "nbformat_minor": 2
}
